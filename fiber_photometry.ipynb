{
 "cells": [
  {
   "cell_type": "code",
   "execution_count": 1,
   "id": "98841b5f-9a27-4235-97d4-1797e3698b80",
   "metadata": {},
   "outputs": [],
   "source": [
    "import matplotlib.pyplot as plt  # standard Python plotting library\n",
    "import numpy as np  # fundamental package for scientific computing, handles arrays and maths\n",
    "import pandas as pd\n",
    "import openpyxl\n",
    "import xlsxwriter\n",
    "from dateutil import parser\n",
    "import seaborn\n",
    "from matplotlib.pyplot import figure\n",
    "# import the tdt library\n",
    "import tdt"
   ]
  },
  {
   "cell_type": "code",
   "execution_count": 2,
   "id": "5a5b23a3-ad3d-4610-8a1d-0c2d40a3a6d1",
   "metadata": {},
   "outputs": [],
   "source": [
    "def fiberphoto_raw_plot(any_t, any_t_end): \n",
    "    # declare the figure size\n",
    "    fig1 = plt.subplots(figsize=(10, 6))\n",
    "\n",
    "    # plot the line using slices\n",
    "    plt.plot(_470A_time[any_t: any_t_end], data.streams._470A.data[any_t: any_t_end], color='cornflowerblue', label=\"Calcium Channel\")\n",
    "    plt.plot(_405A_time[any_t: any_t_end], data.streams._405A.data[any_t: any_t_end], color='deeppink', label=\"Isobetic Channel\")\n",
    "\n",
    "    # Some matplotlib stuff\n",
    "    # add an annotation mark to the figure\n",
    "    # plt.annotate('Point Here',\n",
    "    #              xy=(0.8,0.002),\n",
    "    #              xytext=(.88,.003),\n",
    "    #              arrowprops=dict(arrowstyle='->', color='k')\n",
    "    #             )\n",
    "    plt.axline((1427.48041216, 40), (1427.48041216, 54), linewidth=2, color='r')\n",
    "\n",
    "    # create title, axis labels, and legend\n",
    "    plt.title('Tail pick up Data', fontsize=16)\n",
    "    plt.xlabel('Seconds', fontsize=14)\n",
    "    plt.ylabel('Volts', fontsize=14)\n",
    "    plt.legend(loc='lower right', \n",
    "               bbox_to_anchor=(1.0,1.01)\n",
    "              )\n",
    "    plt.autoscale(tight=True)\n",
    "    plt.show()"
   ]
  },
  {
   "cell_type": "code",
   "execution_count": null,
   "id": "d0df6eff-a624-41c7-991f-177c44c50d90",
   "metadata": {},
   "outputs": [],
   "source": []
  },
  {
   "cell_type": "markdown",
   "id": "85f59f3e-3fa6-4b4c-a67f-268a2c36e42a",
   "metadata": {},
   "source": [
    "F470 = []\n",
    "F405 = []\n",
    "N = 10\n",
    "for i in range(0, len(data.streams._470A.data), N):\n",
    "    F470.append(np.mean(data.streams._470A.data[i:i+N-1])) # This is the moving window mean\n",
    "data.streams._470A.data = F470\n",
    "for i in range(0, len(data.streams._405A.data), N):\n",
    "    F405.append(np.mean(data.streams._405A.data[i:i+N-1])) # This is the moving window mean\n",
    "data.streams._405A.data = F470"
   ]
  },
  {
   "cell_type": "markdown",
   "id": "0df9f894-b295-4ea4-a90d-ddf6a74cdd8b",
   "metadata": {},
   "source": [
    "t = 8\n",
    "time = np.linspace(1,len(data.streams._470A.data), len(data.streams._470A.data))/data.streams._470A.fs\n",
    "inds = np.where(time>t)\n",
    "ind = inds[0][0]\n",
    "time = time[ind:]"
   ]
  },
  {
   "cell_type": "markdown",
   "id": "756f9540-0d23-452c-addd-8cf167c5e1f6",
   "metadata": {},
   "source": [
    "time = time[::N] # go from beginning to end of array in steps on N\n",
    "time = time[:len(data.streams._470A.data)]\n",
    "\n",
    "# Detrending and dFF\n",
    "# Full trace dFF according to Lerner et al. 2015\n",
    "# https://dx.doi.org/10.1016/j.cell.2015.07.014\n",
    "# dFF using 405 fit as baseline\n",
    "\n",
    "x = np.array(data.streams._405A.data)\n",
    "y = np.array(data.streams._470A.data)\n",
    "bls = np.polyfit(x, y, 1)\n",
    "Y_fit_all = np.multiply(bls[0], x) + bls[1]\n",
    "Y_dF_all = y - Y_fit_all\n",
    "\n",
    "dFF = np.multiply(100, np.divide(Y_dF_all, Y_fit_all))\n",
    "std_dFF = np.std(dFF)"
   ]
  },
  {
   "cell_type": "markdown",
   "id": "f6ecbc0d-b647-4346-b27d-87a3903a0281",
   "metadata": {},
   "source": [
    "x = np.array(data.streams._405A.data)\n",
    "y = np.array(data.streams._470A.data)\n",
    "bls = np.polyfit(x, y, 1)\n",
    "Y_fit_all = np.multiply(bls[0], x) + bls[1]\n",
    "Y_dF_all = y - Y_fit_all\n",
    "\n",
    "dFF = np.multiply(100, np.divide(Y_dF_all, Y_fit_all))\n",
    "std_dFF = np.std(dFF)"
   ]
  },
  {
   "cell_type": "code",
   "execution_count": null,
   "id": "027e0fae-1d55-49c1-8f6e-b5615109d06f",
   "metadata": {},
   "outputs": [],
   "source": [
    "# want to all of the same events from the same file together into one file \n",
    "# read the list file first, then read the corresponding fiber photometry data file \n",
    "# loop through each file and generate subplot one by one\n",
    "# in each loop: get the start time and end time based on [Events], state start - 20s, state stop + 20s, \n",
    "    # plot the dff from the fiber photometry data file"
   ]
  },
  {
   "cell_type": "code",
   "execution_count": null,
   "id": "cb9d4b41-bbb2-4e63-93fc-478236c04f8f",
   "metadata": {},
   "outputs": [],
   "source": [
    "# want to plot all of the start to end events in one file, state start - 20s, state stop + 20s,\n",
    "# point event before 20s and after 40s\n",
    "# 1. read events log file  & read corresponding data file \n",
    "# 2. classify events into different groups based on [behavior]\n",
    "# 3. two different group, one group of state start, state stop, \n",
    "# the other one with point event based on [Event]\n",
    "# 4. plot all of the graph in one specific behavior with state start and state stop labeled as a row \n",
    "# 5. plot all of the graph in one specific behavior with point event as a row \n",
    "# save images "
   ]
  },
  {
   "cell_type": "code",
   "execution_count": null,
   "id": "312d9234-e15d-4d70-874c-fb8c7f2565c2",
   "metadata": {},
   "outputs": [],
   "source": [
    "file_name_list = [\"11_FPh3_2R\"]"
   ]
  },
  {
   "cell_type": "code",
   "execution_count": null,
   "id": "6c3909cd-3007-4681-812e-caba0f7bbab8",
   "metadata": {},
   "outputs": [],
   "source": [
    "behavior_log_path = \"/Users/sabrinay/Desktop/2022_behavior_data/20220510_fiber_photometry_ucn/20220510_fiber_photometry_data/processed_behavior_scoring/\"\n",
    "data_path = \"/Users/sabrinay/Desktop/2022_behavior_data/20220510_fiber_photometry_ucn/20220510_fiber_photometry_data/20220510_fph_refeed_in_oft/\""
   ]
  },
  {
   "cell_type": "code",
   "execution_count": null,
   "id": "f3ef7ea6-cb65-4a33-91c3-49b518315929",
   "metadata": {},
   "outputs": [],
   "source": [
    "BLOCK_PATH = data_path + file_name_list[0] + str(\"/\") \n",
    "Log_path = behavior_log_path + file_name_list[0] + \".xlsx\""
   ]
  },
  {
   "cell_type": "code",
   "execution_count": null,
   "id": "da61107c-6e80-4d15-a895-1750f7bfad53",
   "metadata": {},
   "outputs": [],
   "source": [
    "BLOCK_PATH"
   ]
  },
  {
   "cell_type": "code",
   "execution_count": null,
   "id": "7bf7835e-65eb-4af8-b864-d6ec54a70ad2",
   "metadata": {},
   "outputs": [],
   "source": [
    "data = tdt.read_block(BLOCK_PATH)\n",
    "df = pd.read_excel(Log_path)\n",
    "df = df.dropna(axis = 0)\n",
    "num_samples = len(data.streams._470A.data)\n",
    "_470A_time = np.linspace(1, num_samples, num_samples) / data.streams._470A.fs\n",
    "_405A_time = np.linspace(1, num_samples, num_samples) / data.streams._405A.fs\n",
    "dff = []\n",
    "for i in range (0,len(data.streams._470A.data)):\n",
    "    dff.append((data.streams._470A.data[i]-data.streams._405A.data[i])/data.streams._405A.data[i])"
   ]
  },
  {
   "cell_type": "code",
   "execution_count": null,
   "id": "a1a18aef",
   "metadata": {},
   "outputs": [],
   "source": [
    "df"
   ]
  },
  {
   "cell_type": "code",
   "execution_count": null,
   "id": "8a711eb3-4c9f-432d-993f-7d32db21ae56",
   "metadata": {},
   "outputs": [],
   "source": [
    "# Group by behavior \n",
    "d = {}\n",
    "for i in df['Behavior'].unique():\n",
    "    d[i] = [{df['Recording time'][j]: df['Event'][j]} for j in df[df['Behavior']==i].index]"
   ]
  },
  {
   "cell_type": "code",
   "execution_count": null,
   "id": "9b4094ea-8f4e-42ec-bfd4-2522ee6acb3f",
   "metadata": {},
   "outputs": [],
   "source": [
    "any_t = int((start_time[(2*0 -2)] - 5 )* data.streams._470A.fs)\n",
    "any_t"
   ]
  },
  {
   "cell_type": "code",
   "execution_count": null,
   "id": "0bdfcaf2-f6e5-4513-a07a-b3c6250a65ae",
   "metadata": {},
   "outputs": [],
   "source": [
    "df_point = df[df['Event'].str.contains('point event')]\n",
    "df_duration = df[~df['Event'].str.contains('point event')]\n",
    "dfs_point = [x for _, x in df_point.groupby('Behavior')]\n",
    "dfs_duration = [x for _, x in df_duration.groupby('Behavior')]"
   ]
  },
  {
   "cell_type": "code",
   "execution_count": null,
   "id": "b77dc017-bc7a-44e3-bd95-5fa8c31821e9",
   "metadata": {},
   "outputs": [],
   "source": [
    "behavior_type = str (dfs_duration[0]['Behavior'].unique())\n",
    "start_time = dfs_duration[0]['Recording time'].tolist()\n",
    "lengs = int(len(start_time)/2)\n",
    "fig, axs = plt.subplots(lengs, figsize=(15,(lengs * 5)))\n",
    "fig.suptitle(behavior_type + file_name_list[0])\n",
    "print(lengs)\n",
    "for j in range (1, lengs): \n",
    "    any_t = int((start_time[(2*j -2)] - 5 )* data.streams._470A.fs)\n",
    "    any_t_end = int((start_time[(2 * j - 1)] + 5) * data.streams._470A.fs)\n",
    "    axs[j].plot(_470A_time[any_t: any_t_end], dff[any_t: any_t_end], color='cornflowerblue', label=\"Calcium Channel\")\n",
    "    max_any_t = max(dff[any_t: any_t_end])\n",
    "    min_any_t = min(dff[any_t: any_t_end])\n",
    "    axs[j].vlines((start_time[(2*j -2)]), min_any_t, max_any_t, linewidth=2, color='r')\n",
    "    axs[j].vlines((start_time[(2 * j - 1)]), min_any_t, max_any_t, linewidth=2, color='r')\n",
    "fig.savefig(behavior_type + file_name_list[0] + '.png')"
   ]
  },
  {
   "cell_type": "code",
   "execution_count": null,
   "id": "fff6960f-e665-45f1-908c-e25b62eefa83",
   "metadata": {},
   "outputs": [],
   "source": [
    "n = len(dfs_duration)\n",
    "for i in range (0, len(dfs_duration)):\n",
    "    \n",
    "    behavior_type = str (dfs_duration[i]['Behavior'].unique())\n",
    "    start_time = dfs_duration[i]['Recording time'].tolist()\n",
    "    lengs = int(len(start_time)/2)\n",
    "    fig, axs = plt.subplots(lengs, figsize=(15,(lengs * 5)))\n",
    "    fig.suptitle(behavior_type + file_name_list[0])\n",
    "    print(lengs)\n",
    "    for j in range (1, lengs): \n",
    "        any_t = int((start_time[(2*j -2)] - 5 )* data.streams._470A.fs)\n",
    "        any_t_end = int((start_time[(2 * j - 1)] + 5) * data.streams._470A.fs)\n",
    "        max_any_t = max(dff[any_t: any_t_end])\n",
    "        min_any_t = min(dff[any_t: any_t_end])\n",
    "        axs[j].plot(_470A_time[any_t: any_t_end], dff[any_t: any_t_end], color='cornflowerblue', label=\"Calcium Channel\")\n",
    "        axs[j].vlines(start_time[2*j -2], min_any_t, max_any_t, linewidth=2, color='r')\n",
    "        axs[j].vlines(start_time[2 * j - 1], min_any_t, max_any_t, linewidth=2, color='r')\n",
    "    fig.savefig(behavior_type + file_name_list[0] + '.png')"
   ]
  },
  {
   "cell_type": "code",
   "execution_count": null,
   "id": "2aa63923-b30c-4c5f-8477-4fc2b41ec165",
   "metadata": {},
   "outputs": [],
   "source": [
    "n = len(dfs_point)\n",
    "for i in range (0, len(dfs_point)):\n",
    "    behavior_type = str (dfs_point[0]['Behavior'].unique())\n",
    "    start_time = dfs_point[i]['Recording time'].tolist()\n",
    "    fig, axs = plt.subplots(len(start_time), figsize=(15,100))\n",
    "    fig.suptitle(behavior_type + file_name_list[0])\n",
    "    for j in range (0, len(start_time)): \n",
    "        any_t = int((start_time[j] - 20 )* data.streams._470A.fs)\n",
    "        any_t_end = int((start_time[j] + 30) * data.streams._470A.fs)\n",
    "        axs[j].plot(_470A_time[any_t: any_t_end], dff[any_t: any_t_end], color='cornflowerblue', label=\"Calcium Channel\")\n",
    "        axs[j].vlines(start_time[j], 0, 0.5, linewidth=2, color='r')\n",
    "    plt.show()\n",
    "    plt.savefig(behavior_type + file_name_list[0] + '.png')\n",
    "    fig.savefig(behavior_type + file_name_list[0] + '.png')"
   ]
  },
  {
   "cell_type": "code",
   "execution_count": null,
   "id": "4cc7320f-c4ee-4cf1-aa03-96fd6e143c31",
   "metadata": {},
   "outputs": [],
   "source": [
    "Behavior_type"
   ]
  },
  {
   "cell_type": "code",
   "execution_count": null,
   "id": "76fbcbac-d166-428f-9383-dc1d5ab6701f",
   "metadata": {},
   "outputs": [],
   "source": [
    "fig3 = plt.subplots(figsize=(10, 6))\n",
    "\n",
    "plt.plot(_470A_time[tail_t: tail_t_end], dff[tail_t: tail_t_end], color='cornflowerblue', label=\"Calcium Channel\")\n",
    "# Some matplotlib stuff\n",
    "# add an annotation mark to the figure\n",
    "# plt.annotate('Point Here',\n",
    "#              xy=(0.8,0.002),\n",
    "#              xytext=(.88,.003),\n",
    "#              arrowprops=dict(arrowstyle='->', color='k')\n",
    "#             )\n",
    "plt.axline((1427.48041216, 0), (1427.48041216, 0.5), linewidth=2, color='r')\n",
    "\n",
    "# create title, axis labels, and legend\n",
    "plt.title('Tail pick up Data', fontsize=16)\n",
    "plt.xlabel('Seconds', fontsize=14)\n",
    "plt.ylabel(r'$\\Delta$F/F')\n",
    "plt.legend(loc='lower right', \n",
    "           bbox_to_anchor=(1.0,1.01)\n",
    "          )\n",
    "plt.autoscale(tight=True)\n",
    "plt.show()"
   ]
  },
  {
   "cell_type": "code",
   "execution_count": null,
   "id": "d26f9ec0-59c9-400a-83db-b47b62cc0172",
   "metadata": {},
   "outputs": [],
   "source": []
  },
  {
   "cell_type": "code",
   "execution_count": null,
   "id": "79f7409e-4835-4df4-9906-5f2e3674bd9b",
   "metadata": {},
   "outputs": [],
   "source": [
    "any_t = int(400 * data.streams._470A.fs)\n",
    "any_t_end = int(1450 * data.streams._470A.fs)"
   ]
  },
  {
   "cell_type": "code",
   "execution_count": null,
   "id": "4f67e500-fa17-4981-b270-6e58d7e2ab70",
   "metadata": {},
   "outputs": [],
   "source": [
    "fig5 = plt.subplots(figsize=(15, 6))\n",
    "\n",
    "plt.plot(_470A_time[any_t: any_t_end], dff[any_t: any_t_end], color='cornflowerblue', label=\"Calcium Channel\")\n",
    "# Some matplotlib stuff\n",
    "# add an annotation mark to the figure\n",
    "# plt.annotate('Point Here',\n",
    "#              xy=(0.8,0.002),\n",
    "#              xytext=(.88,.003),\n",
    "#              arrowprops=dict(arrowstyle='->', color='k')\n",
    "#             )\n",
    "plt.axline((1427.48041216, 0), (1427.48041216, 0.5), linewidth=2, color='r')\n",
    "\n",
    "# create title, axis labels, and legend\n",
    "plt.title('Tail pick up Data', fontsize=16)\n",
    "plt.xlabel('Seconds', fontsize=14)\n",
    "plt.ylabel(r'$\\Delta$F/F')\n",
    "plt.legend(loc='lower right', \n",
    "           bbox_to_anchor=(1.0,1.01)\n",
    "          )\n",
    "plt.autoscale(tight=True)\n",
    "plt.show()"
   ]
  },
  {
   "cell_type": "code",
   "execution_count": null,
   "id": "4bc557b3-0f78-4bbb-be25-0674116fa332",
   "metadata": {},
   "outputs": [],
   "source": [
    "ax3 = fig3.add_subplot(312)\n",
    "p1, = ax3.plot(time, dFF, linewidth=2, color='green', label='GCaMP')\n",
    "p2, = ax3.plot(tail_EVENT_x, y_scale*tail_EVENT_y+y_shift, linewidth=2, color='dodgerblue', label='Lick Bout')\n",
    "ax3.set_ylabel(r'$\\Delta$F/F')\n",
    "ax3.set_xlabel('Seconds')\n",
    "ax3.set_title('dFF with tail Bouts')\n",
    "ax3.legend(handles=[p1, p2], loc='upper right')\n",
    "fig3.tight_layout()\n",
    "fig3"
   ]
  },
  {
   "cell_type": "code",
   "execution_count": null,
   "id": "fe3da86b-9273-405a-b1c5-4e740470f11a",
   "metadata": {},
   "outputs": [],
   "source": [
    "tailfilepath = '/Users/sabrinay/Desktop/2022_behavior_data/20220510_fiber_photometry_ucn/20220510_fiber_photometry_data/20220510_tail_pinch_fiber_even.xlsx'\n",
    "df_tail = pd.read_excel(tailfilepath)\n",
    "tailfile_list = df_tail['file_name'].unique().tolist()\n",
    "df_tail"
   ]
  },
  {
   "cell_type": "code",
   "execution_count": null,
   "id": "8021492a-a3d4-4f7d-b435-c4f7923b1a22",
   "metadata": {},
   "outputs": [],
   "source": [
    "data_path = \"/Users/sabrinay/Desktop/2022_behavior_data/20220510_fiber_photometry_ucn/20220510_fiber_photometry_data/20220510_fph_refeed_in_oft/\""
   ]
  },
  {
   "cell_type": "code",
   "execution_count": null,
   "id": "1aad775d-195f-4904-a22f-980d46d3cf88",
   "metadata": {},
   "outputs": [],
   "source": [
    "BLOCK_PATH = data_path + tailfile_list [0] + str(\"/\")\n",
    "fig, axs = plt.subplots(1, figsize=(15,5))\n",
    "fig.suptitle(\"tail pinch\")\n",
    "data = tdt.read_block(BLOCK_PATH)\n",
    "num_samples = len(data.streams._470A.data)\n",
    "_470A_time = np.linspace(1, num_samples, num_samples) / data.streams._470A.fs\n",
    "_405A_time = np.linspace(1, num_samples, num_samples) / data.streams._405A.fs\n",
    "dff = []\n",
    "for j in range (0,len(data.streams._470A.data)):\n",
    "    dff.append((data.streams._470A.data[j]-data.streams._405A.data[j])/data.streams._405A.data[j])\n",
    "tail_start = df_tail['Recording time'].loc[2*0]\n",
    "tail_end = df_tail['Recording time'].loc[2*0 + 1]\n",
    "print(tail_start)\n",
    "any_t = int((tail_start)* data.streams._470A.fs) - 2\n",
    "any_t_end = int((tail_end) * data.streams._470A.fs) + 2\n",
    "max_any_t = max(dff[any_t: any_t_end])\n",
    "min_any_t = min(dff[any_t: any_t_end])\n",
    "axs.plot(_470A_time[any_t: any_t_end], dff[any_t: any_t_end], color='cornflowerblue', label=\"Calcium Channel\")\n",
    "axs.vlines(tail_start, min_any_t, max_any_t, linewidth=2, color='r')\n",
    "axs.vlines(tail_end, min_any_t, max_any_t, linewidth=2, color='r')\n",
    "print(max_any_t)\n",
    "print(min_any_t)\n",
    "plt.plot(_470A_time[any_t: any_t_end],dff[any_t: any_t_end] )\n",
    "plt.show()"
   ]
  },
  {
   "cell_type": "code",
   "execution_count": null,
   "id": "0e7db4d3-ce67-4d8c-96a7-634ba935afb8",
   "metadata": {},
   "outputs": [],
   "source": []
  },
  {
   "cell_type": "code",
   "execution_count": null,
   "id": "fed9f4f4-c4aa-4189-81e1-99d369b83404",
   "metadata": {},
   "outputs": [],
   "source": [
    "fig, axs = plt.subplots(len(tailfile_list), figsize=(15,(len(tailfile_list) * 5)))\n",
    "fig.suptitle(\"tail pinch\")\n",
    "for i in range(0, len(tailfile_list)):\n",
    "    BLOCK_PATH = data_path + tailfile_list [i] + str(\"/\")\n",
    "    data = tdt.read_block(BLOCK_PATH)\n",
    "    num_samples = len(data.streams._470A.data)\n",
    "    _470A_time = np.linspace(1, num_samples, num_samples) / data.streams._470A.fs\n",
    "    _405A_time = np.linspace(1, num_samples, num_samples) / data.streams._405A.fs\n",
    "    dff = []\n",
    "    for j in range (0,len(data.streams._470A.data)):\n",
    "        dff.append((data.streams._470A.data[j]-data.streams._405A.data[j])/data.streams._405A.data[j])\n",
    "    tail_start = df_tail['Recording time'].iloc[2*i]\n",
    "    tail_end = df_tail['Recording time'].iloc[2*i + 1]\n",
    "    any_t = int((tail_start)* data.streams._470A.fs) - 2\n",
    "    any_t_end = int((tail_end) * data.streams._470A.fs) + 2\n",
    "    max_any_t = max(dff[any_t: any_t_end])\n",
    "    min_any_t = min(dff[any_t: any_t_end])\n",
    "    axs[i].plot(_470A_time[any_t: any_t_end], dff[any_t: any_t_end], color='cornflowerblue', label=\"Calcium Channel\")\n",
    "    axs[i].vlines(tail_start, min_any_t, max_any_t, linewidth=2, color='r')\n",
    "    axs[i].vlines(tail_end, min_any_t, max_any_t, linewidth=2, color='r')\n",
    "    axs[i].legend(str([i+1]),loc=\"upper right\")\n",
    "fig.savefig( 'tail pinch' + '.png')\n",
    "    "
   ]
  },
  {
   "cell_type": "code",
   "execution_count": null,
   "id": "3799082f-cafa-42a4-bc1b-1c3499e0cd06",
   "metadata": {},
   "outputs": [],
   "source": [
    "# tail pinch "
   ]
  }
 ],
 "metadata": {
  "kernelspec": {
   "display_name": "Python 3",
   "language": "python",
   "name": "python3"
  },
  "language_info": {
   "codemirror_mode": {
    "name": "ipython",
    "version": 3
   },
   "file_extension": ".py",
   "mimetype": "text/x-python",
   "name": "python",
   "nbconvert_exporter": "python",
   "pygments_lexer": "ipython3",
   "version": "3.8.8"
  }
 },
 "nbformat": 4,
 "nbformat_minor": 5
}
